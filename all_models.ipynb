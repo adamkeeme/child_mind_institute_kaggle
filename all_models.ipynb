{
 "cells": [
  {
   "cell_type": "code",
   "execution_count": 3,
   "metadata": {},
   "outputs": [
    {
     "name": "stdout",
     "output_type": "stream",
     "text": [
      "datasets 2-2_train_iterative_imputed loading\n",
      "datasets 3-3_train_simple_imputed loading\n",
      "datasets 3-2_train_knn_imputed loading\n",
      "datasets 3-1_train_iterative_imputed loading\n",
      "datasets 2-1_train_simple_imputed loading\n",
      "datasets 2-3_train_knn_imputed loading\n",
      "datasets 1_COMPLETE_train_clean_without_fitness_FGC_no_nulls loading\n"
     ]
    }
   ],
   "source": [
    "from read_data import *\n",
    "\n",
    "datasets = data_load()"
   ]
  },
  {
   "cell_type": "markdown",
   "metadata": {},
   "source": [
    "# KNN"
   ]
  },
  {
   "cell_type": "code",
   "execution_count": 8,
   "metadata": {},
   "outputs": [
    {
     "name": "stdout",
     "output_type": "stream",
     "text": [
      "2-2_train_iterative_imputed\n",
      "Best k is 7 with accuracy: 63.91%\n",
      "3-3_train_simple_imputed\n",
      "Best k is 14 with accuracy: 59.12%\n",
      "3-2_train_knn_imputed\n",
      "Best k is 15 with accuracy: 59.67%\n",
      "3-1_train_iterative_imputed\n",
      "Best k is 15 with accuracy: 59.49%\n",
      "2-1_train_simple_imputed\n",
      "Best k is 7 with accuracy: 62.91%\n",
      "2-3_train_knn_imputed\n",
      "Best k is 11 with accuracy: 63.25%\n",
      "1_COMPLETE_train_clean_without_fitness_FGC_no_nulls\n",
      "Best k is 4 with accuracy: 57.14%\n"
     ]
    }
   ],
   "source": [
    "from KNN import *\n",
    "\n",
    "k_values = range(4,16)\n",
    "for dataset_name, dataset in datasets.items():\n",
    "    print(dataset_name)\n",
    "    find_best_k(dataset, k_values)"
   ]
  },
  {
   "cell_type": "markdown",
   "metadata": {},
   "source": [
    "# MLP"
   ]
  },
  {
   "cell_type": "code",
   "execution_count": 5,
   "metadata": {},
   "outputs": [
    {
     "name": "stdout",
     "output_type": "stream",
     "text": [
      "2-2_train_iterative_imputed\n"
     ]
    },
    {
     "name": "stderr",
     "output_type": "stream",
     "text": [
      "/Users/lai/miniconda3/envs/msai339/lib/python3.10/site-packages/sklearn/neural_network/_multilayer_perceptron.py:690: ConvergenceWarning: Stochastic Optimizer: Maximum iterations (300) reached and the optimization hasn't converged yet.\n",
      "  warnings.warn(\n"
     ]
    },
    {
     "name": "stdout",
     "output_type": "stream",
     "text": [
      "Accuracy of MLP: 58.61%\n",
      "3-3_train_simple_imputed\n"
     ]
    },
    {
     "name": "stderr",
     "output_type": "stream",
     "text": [
      "/Users/lai/miniconda3/envs/msai339/lib/python3.10/site-packages/sklearn/neural_network/_multilayer_perceptron.py:690: ConvergenceWarning: Stochastic Optimizer: Maximum iterations (300) reached and the optimization hasn't converged yet.\n",
      "  warnings.warn(\n"
     ]
    },
    {
     "name": "stdout",
     "output_type": "stream",
     "text": [
      "Accuracy of MLP: 53.65%\n",
      "3-2_train_knn_imputed\n"
     ]
    },
    {
     "name": "stderr",
     "output_type": "stream",
     "text": [
      "/Users/lai/miniconda3/envs/msai339/lib/python3.10/site-packages/sklearn/neural_network/_multilayer_perceptron.py:690: ConvergenceWarning: Stochastic Optimizer: Maximum iterations (300) reached and the optimization hasn't converged yet.\n",
      "  warnings.warn(\n"
     ]
    },
    {
     "name": "stdout",
     "output_type": "stream",
     "text": [
      "Accuracy of MLP: 50.73%\n",
      "3-1_train_iterative_imputed\n"
     ]
    },
    {
     "name": "stderr",
     "output_type": "stream",
     "text": [
      "/Users/lai/miniconda3/envs/msai339/lib/python3.10/site-packages/sklearn/neural_network/_multilayer_perceptron.py:690: ConvergenceWarning: Stochastic Optimizer: Maximum iterations (300) reached and the optimization hasn't converged yet.\n",
      "  warnings.warn(\n"
     ]
    },
    {
     "name": "stdout",
     "output_type": "stream",
     "text": [
      "Accuracy of MLP: 51.09%\n",
      "2-1_train_simple_imputed\n"
     ]
    },
    {
     "name": "stderr",
     "output_type": "stream",
     "text": [
      "/Users/lai/miniconda3/envs/msai339/lib/python3.10/site-packages/sklearn/neural_network/_multilayer_perceptron.py:690: ConvergenceWarning: Stochastic Optimizer: Maximum iterations (300) reached and the optimization hasn't converged yet.\n",
      "  warnings.warn(\n"
     ]
    },
    {
     "name": "stdout",
     "output_type": "stream",
     "text": [
      "Accuracy of MLP: 58.61%\n",
      "2-3_train_knn_imputed\n"
     ]
    },
    {
     "name": "stderr",
     "output_type": "stream",
     "text": [
      "/Users/lai/miniconda3/envs/msai339/lib/python3.10/site-packages/sklearn/neural_network/_multilayer_perceptron.py:690: ConvergenceWarning: Stochastic Optimizer: Maximum iterations (300) reached and the optimization hasn't converged yet.\n",
      "  warnings.warn(\n"
     ]
    },
    {
     "name": "stdout",
     "output_type": "stream",
     "text": [
      "Accuracy of MLP: 56.29%\n",
      "1_COMPLETE_train_clean_without_fitness_FGC_no_nulls\n",
      "Accuracy of MLP: 53.42%\n"
     ]
    },
    {
     "name": "stderr",
     "output_type": "stream",
     "text": [
      "/Users/lai/miniconda3/envs/msai339/lib/python3.10/site-packages/sklearn/neural_network/_multilayer_perceptron.py:690: ConvergenceWarning: Stochastic Optimizer: Maximum iterations (300) reached and the optimization hasn't converged yet.\n",
      "  warnings.warn(\n"
     ]
    }
   ],
   "source": [
    "from MLP import *\n",
    "\n",
    "for dataset_name, dataset in datasets.items():\n",
    "    print(dataset_name)\n",
    "    mlp_train(dataset)\n"
   ]
  }
 ],
 "metadata": {
  "kernelspec": {
   "display_name": "msai339",
   "language": "python",
   "name": "python3"
  },
  "language_info": {
   "codemirror_mode": {
    "name": "ipython",
    "version": 3
   },
   "file_extension": ".py",
   "mimetype": "text/x-python",
   "name": "python",
   "nbconvert_exporter": "python",
   "pygments_lexer": "ipython3",
   "version": "3.10.14"
  }
 },
 "nbformat": 4,
 "nbformat_minor": 2
}
