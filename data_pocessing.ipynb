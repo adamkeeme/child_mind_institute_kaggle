{
 "cells": [
  {
   "cell_type": "code",
   "execution_count": 206,
   "metadata": {},
   "outputs": [],
   "source": [
    "import pandas as pd\n",
    "import matplotlib.pyplot as plt\n",
    "\n",
    "class DataSet:\n",
    "\n",
    "    def __init__(self, train=None, test=None):\n",
    "        self.df_train = pd.read_csv(train)\n",
    "        self.df_test = pd.read_csv(test)\n",
    "\n",
    "    def print_summary_statics(self):\n",
    "        describe_df = self.df_train.describe()\n",
    "        # print(describe_df)\n",
    "        for i in range(0, len(describe_df.columns), 2):\n",
    "            print(describe_df.loc[:, describe_df.columns[i:i+2]])\n",
    "\n",
    "    def plot_summary_statics(self):\n",
    "        notna_counts = self.df_train.notna().sum()\n",
    "        self.show_plot(notna_counts)\n",
    "\n",
    "    def print_summary_statics_without_notna(self, attributes):\n",
    "        final_cols = []\n",
    "        for attribute in attributes:\n",
    "            columns = [col for col in self.df_train.columns if col.startswith(attribute)]\n",
    "            final_cols += columns\n",
    "        df_new = self.df_train.dropna(subset=final_cols)\n",
    "        # df_new = df_new.dropna(axis=1, how='all')\n",
    "        describe_df = df_new.describe()\n",
    "        # print(describe_df)\n",
    "        for i in range(0, len(describe_df.columns), 2):\n",
    "            print(describe_df.loc[:, describe_df.columns[i:i+2]])\n",
    "\n",
    "    def plot_summary_statics_without_notna(self, attributes):\n",
    "        final_cols = []\n",
    "        for attribute in attributes:\n",
    "            columns = [col for col in self.df_train.columns if col.startswith(attribute)]\n",
    "            final_cols += columns\n",
    "        df_new = self.df_train.dropna(subset=final_cols)\n",
    "        # df_new = df_new.dropna(axis=1, how='all')\n",
    "        notna_counts = df_new.notna().sum()\n",
    "        self.show_plot(notna_counts)\n",
    "\n",
    "    def plot_drop(self, attributes):\n",
    "        final_cols = []\n",
    "        for attribute in attributes:\n",
    "            columns = [col for col in self.df_train.columns if col.startswith(attribute)]\n",
    "            final_cols += columns\n",
    "        df_new = self.df_train.drop(columns=final_cols, errors='ignore')\n",
    "        notna_counts = df_new.notna().sum()\n",
    "        self.show_plot(notna_counts)\n",
    "    \n",
    "    def show_plot(self, df):\n",
    "        plt.figure(figsize=(10, 6))\n",
    "        df.plot(kind='bar', color='skyblue', edgecolor='black')\n",
    "        plt.title('Non-NA Counts per Column in Filtered DataFrame')\n",
    "        plt.xlabel('Columns')\n",
    "        plt.ylabel('Non-NA Counts')\n",
    "        plt.xticks(rotation=90, fontsize=10)\n",
    "        plt.grid(axis='y', linestyle='--', alpha=0.7)\n",
    "        plt.tight_layout()\n",
    "        plt.show()\n",
    "\n",
    "        \n",
    "\n"
   ]
  },
  {
   "cell_type": "code",
   "execution_count": 221,
   "metadata": {},
   "outputs": [],
   "source": [
    "def data_clean(train):\n",
    "    pass\n",
    "    df_train = pd.read_csv(train)\n",
    "    df_sii = df_train[df_train['sii'].notna()]\n",
    "    df_sii = df_sii.copy()\n",
    "    df_sii['PAQ_Result'] = df_sii['PAQ_A-PAQ_A_Total'].combine_first(df_sii['PAQ_C-PAQ_C_Total'])\n",
    "    df_sii['PAQ_Season'] = df_sii['PAQ_A-Season'].combine_first(df_sii['PAQ_C-Season'])\n",
    "    columns_to_drop = ['Physical-Waist_Circumference'] + \\\n",
    "                  [f'PCIAT-PCIAT_{i:02d}' for i in range(1, 21)] + \\\n",
    "                  ['PCIAT-PCIAT_Total'] + \\\n",
    "                  ['PAQ_A-PAQ_A_Total', 'PAQ_C-PAQ_C_Total', 'PAQ_A-Season', 'PAQ_C-Season']\n",
    "    \n",
    "    df_sii = df_sii.drop(columns=columns_to_drop, errors='ignore')\n",
    "    # drop FGC, Fitness_Endurance\n",
    "    if 1:\n",
    "        columns = [col for col in df_sii.columns if col.startswith('FGC')] + [col for col in df_sii.columns if col.startswith('Fitness_Endurance')]\n",
    "        df_sii = df_sii.drop(columns=columns, errors='ignore')\n",
    "\n",
    "    df_sii.to_csv('datasets/train_drop2.csv', index=False)\n",
    "\n",
    "data_clean('datasets/train.csv')"
   ]
  },
  {
   "cell_type": "code",
   "execution_count": null,
   "metadata": {},
   "outputs": [],
   "source": [
    "data = DataSet('datasets/train_clean.csv', 'datasets/test.csv')\n",
    "data.plot_summary_statics()\n",
    "data.print_summary_statics()"
   ]
  },
  {
   "cell_type": "code",
   "execution_count": null,
   "metadata": {},
   "outputs": [],
   "source": [
    "data2 = DataSet('datasets/train_drop2.csv', 'datasets/test.csv')\n",
    "data2.plot_summary_statics()\n",
    "data2.print_summary_statics()"
   ]
  },
  {
   "cell_type": "code",
   "execution_count": null,
   "metadata": {},
   "outputs": [],
   "source": [
    "attr = ['Fitness_Endurance']\n",
    "data.plot_summary_statics_without_notna(attr)\n",
    "data.print_summary_statics_without_notna(attr)"
   ]
  },
  {
   "cell_type": "code",
   "execution_count": null,
   "metadata": {},
   "outputs": [],
   "source": [
    "attr = ['FGC']\n",
    "data.plot_summary_statics_without_notna(attr)\n",
    "data.print_summary_statics_without_notna(attr)"
   ]
  },
  {
   "cell_type": "code",
   "execution_count": null,
   "metadata": {},
   "outputs": [],
   "source": [
    "attr = ['BIA-BIA']\n",
    "data.plot_summary_statics_without_notna(attr)\n",
    "data.print_summary_statics_without_notna(attr)"
   ]
  },
  {
   "cell_type": "code",
   "execution_count": null,
   "metadata": {},
   "outputs": [],
   "source": [
    "attr = ['Physical']\n",
    "data.plot_summary_statics_without_notna(attr)\n",
    "data.print_summary_statics_without_notna(attr)"
   ]
  },
  {
   "cell_type": "code",
   "execution_count": null,
   "metadata": {},
   "outputs": [],
   "source": [
    "attr = ['PAQ_Result']\n",
    "data.plot_summary_statics_without_notna(attr)\n",
    "data.print_summary_statics_without_notna(attr)"
   ]
  },
  {
   "cell_type": "code",
   "execution_count": null,
   "metadata": {},
   "outputs": [],
   "source": [
    "attr = ['PreInt_EduHx']\n",
    "data.plot_summary_statics_without_notna(attr)\n",
    "data.print_summary_statics_without_notna(attr)"
   ]
  },
  {
   "cell_type": "code",
   "execution_count": null,
   "metadata": {},
   "outputs": [],
   "source": [
    "attr = ['SDS-SDS']\n",
    "data.plot_summary_statics_without_notna(attr)\n",
    "data.print_summary_statics_without_notna(attr)"
   ]
  },
  {
   "cell_type": "code",
   "execution_count": null,
   "metadata": {},
   "outputs": [],
   "source": [
    "attr = ['Fitness_Endurance', 'FGC']\n",
    "data.plot_drop(attr)"
   ]
  }
 ],
 "metadata": {
  "kernelspec": {
   "display_name": "msai339",
   "language": "python",
   "name": "python3"
  },
  "language_info": {
   "codemirror_mode": {
    "name": "ipython",
    "version": 3
   },
   "file_extension": ".py",
   "mimetype": "text/x-python",
   "name": "python",
   "nbconvert_exporter": "python",
   "pygments_lexer": "ipython3",
   "version": "3.10.14"
  }
 },
 "nbformat": 4,
 "nbformat_minor": 2
}
